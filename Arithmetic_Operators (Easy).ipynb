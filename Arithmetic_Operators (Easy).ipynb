{
  "nbformat": 4,
  "nbformat_minor": 0,
  "metadata": {
    "colab": {
      "provenance": []
    },
    "kernelspec": {
      "name": "python3",
      "display_name": "Python 3"
    },
    "language_info": {
      "name": "python"
    }
  },
  "cells": [
    {
      "cell_type": "code",
      "execution_count": null,
      "metadata": {
        "id": "e9uv-JWAgcmG"
      },
      "outputs": [],
      "source": [
        "if __name__ == '__main__':\n",
        "    a = int(input())\n",
        "    b = int(input())\n",
        "\n",
        "    # Calculate the sum\n",
        "    sum = a + b\n",
        "\n",
        "    # Calculate the difference\n",
        "    difference = a - b\n",
        "\n",
        "    # Calculate the product\n",
        "    product = a * b\n",
        "\n",
        "    # Print the results\n",
        "    print(sum)\n",
        "    print(difference)\n",
        "    print(product)\n"
      ]
    }
  ]
}