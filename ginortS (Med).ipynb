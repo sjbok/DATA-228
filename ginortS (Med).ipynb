{
 "cells": [
  {
   "cell_type": "code",
   "execution_count": 1,
   "id": "636371b0",
   "metadata": {},
   "outputs": [],
   "source": [
    "def sort_string(S):\n",
    "    lower_case_letters = []\n",
    "    upper_case_letters = []\n",
    "    odd_digits = []\n",
    "    even_digits = []\n",
    "    \n",
    "    for char in S:\n",
    "        if char.islower():\n",
    "            lower_case_letters.append(char)\n",
    "        elif char.isupper():\n",
    "            upper_case_letters.append(char)\n",
    "        elif char.isdigit():\n",
    "            if int(char) % 2 == 0:\n",
    "                even_digits.append(char)\n",
    "            else:\n",
    "                odd_digits.append(char)\n",
    "    \n",
    "    lower_case_letters.sort()\n",
    "    upper_case_letters.sort()\n",
    "    odd_digits.sort()\n",
    "    even_digits.sort()\n",
    "    \n",
    "    return \"\".join(lower_case_letters + upper_case_letters + odd_digits + even_digits)\n"
   ]
  },
  {
   "cell_type": "code",
   "execution_count": 2,
   "id": "6d9bced6",
   "metadata": {},
   "outputs": [
    {
     "name": "stdout",
     "output_type": "stream",
     "text": [
      "Sorting1234\n",
      "ginortS1324\n"
     ]
    }
   ],
   "source": [
    "S=input()\n",
    "print(sort_string(S))"
   ]
  },
  {
   "cell_type": "code",
   "execution_count": null,
   "id": "ec6afb55",
   "metadata": {},
   "outputs": [],
   "source": []
  }
 ],
 "metadata": {
  "kernelspec": {
   "display_name": "Python 3 (ipykernel)",
   "language": "python",
   "name": "python3"
  },
  "language_info": {
   "codemirror_mode": {
    "name": "ipython",
    "version": 3
   },
   "file_extension": ".py",
   "mimetype": "text/x-python",
   "name": "python",
   "nbconvert_exporter": "python",
   "pygments_lexer": "ipython3",
   "version": "3.9.7"
  }
 },
 "nbformat": 4,
 "nbformat_minor": 5
}
